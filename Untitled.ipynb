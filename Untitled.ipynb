{
 "cells": [
  {
   "cell_type": "code",
   "execution_count": 1,
   "metadata": {},
   "outputs": [],
   "source": [
    "# 載入相關套件\n",
    "import numpy as np\n",
    "import pandas as pd\n",
    "\n",
    "# 繪圖相關套件\n",
    "import matplotlib.pyplot as plt\n",
    "%matplotlib inline\n",
    "import matplotlib.gridspec as gridspec\n",
    "import seaborn as sns\n",
    "plt.style.use( 'ggplot' ) "
   ]
  },
  {
   "cell_type": "code",
   "execution_count": 2,
   "metadata": {},
   "outputs": [],
   "source": [
    "dataset = pd.read_csv('test.csv')"
   ]
  },
  {
   "cell_type": "code",
   "execution_count": 3,
   "metadata": {
    "scrolled": true
   },
   "outputs": [],
   "source": [
    "df = dataset.iloc[:,1:13]"
   ]
  },
  {
   "cell_type": "code",
   "execution_count": 4,
   "metadata": {},
   "outputs": [
    {
     "data": {
      "text/html": [
       "<div>\n",
       "<style scoped>\n",
       "    .dataframe tbody tr th:only-of-type {\n",
       "        vertical-align: middle;\n",
       "    }\n",
       "\n",
       "    .dataframe tbody tr th {\n",
       "        vertical-align: top;\n",
       "    }\n",
       "\n",
       "    .dataframe thead th {\n",
       "        text-align: right;\n",
       "    }\n",
       "</style>\n",
       "<table border=\"1\" class=\"dataframe\">\n",
       "  <thead>\n",
       "    <tr style=\"text-align: right;\">\n",
       "      <th></th>\n",
       "      <th>性別</th>\n",
       "      <th>年齡</th>\n",
       "      <th>每月平均收入</th>\n",
       "      <th>是否有開車經驗</th>\n",
       "      <th>駕駛過何種車款</th>\n",
       "      <th>開車經驗多長</th>\n",
       "      <th>是否有購車經驗</th>\n",
       "      <th>購車次數為何</th>\n",
       "      <th>您所購買的車種是</th>\n",
       "      <th>您購車主要考量的因素為何</th>\n",
       "      <th>請選擇您最常獲得汽車相關訊息的管道</th>\n",
       "      <th>若價格相同情況下，您會優先考慮何種車款</th>\n",
       "    </tr>\n",
       "  </thead>\n",
       "  <tbody>\n",
       "    <tr>\n",
       "      <th>0</th>\n",
       "      <td>男性 Man</td>\n",
       "      <td>25-34</td>\n",
       "      <td>20000以下</td>\n",
       "      <td>是 Yes</td>\n",
       "      <td>一般燃油汽車 Petrol Fueled Cars;</td>\n",
       "      <td>1-3年</td>\n",
       "      <td>否 No</td>\n",
       "      <td>NaN</td>\n",
       "      <td>NaN</td>\n",
       "      <td>NaN</td>\n",
       "      <td>電視媒體\\tTV;網路媒體\\tOnline media;社群平台\\tSocial media...</td>\n",
       "      <td>電動車 Electric Vehicles</td>\n",
       "    </tr>\n",
       "    <tr>\n",
       "      <th>1</th>\n",
       "      <td>女性 Woman</td>\n",
       "      <td>18-24</td>\n",
       "      <td>20000以下</td>\n",
       "      <td>否 No</td>\n",
       "      <td>NaN</td>\n",
       "      <td>NaN</td>\n",
       "      <td>NaN</td>\n",
       "      <td>NaN</td>\n",
       "      <td>NaN</td>\n",
       "      <td>NaN</td>\n",
       "      <td>電視媒體\\tTV;平面媒體\\tNewspaper;網路媒體\\tOnline media;社群...</td>\n",
       "      <td>一般燃油車 Petrol Fueled Vehilcles</td>\n",
       "    </tr>\n",
       "    <tr>\n",
       "      <th>2</th>\n",
       "      <td>男性 Man</td>\n",
       "      <td>25-34</td>\n",
       "      <td>50000以上</td>\n",
       "      <td>是 Yes</td>\n",
       "      <td>一般燃油汽車 Petrol Fueled Cars;</td>\n",
       "      <td>5年以上</td>\n",
       "      <td>否 No</td>\n",
       "      <td>NaN</td>\n",
       "      <td>NaN</td>\n",
       "      <td>NaN</td>\n",
       "      <td>網路媒體\\tOnline media;社群平台\\tSocial media;</td>\n",
       "      <td>電動車 Electric Vehicles</td>\n",
       "    </tr>\n",
       "    <tr>\n",
       "      <th>3</th>\n",
       "      <td>女性 Woman</td>\n",
       "      <td>45-54</td>\n",
       "      <td>30000-40000</td>\n",
       "      <td>是 Yes</td>\n",
       "      <td>一般燃油汽車 Petrol Fueled Cars;柴油車 Diesel Fueled Ca...</td>\n",
       "      <td>5年以上</td>\n",
       "      <td>是 Yes</td>\n",
       "      <td>1</td>\n",
       "      <td>柴油車 Diesel Fueled Cars ;</td>\n",
       "      <td>價格;安全性;效能;</td>\n",
       "      <td>網路媒體\\tOnline media;車展 Auto Show;親友\\tFriends;</td>\n",
       "      <td>電動車 Electric Vehicles</td>\n",
       "    </tr>\n",
       "    <tr>\n",
       "      <th>4</th>\n",
       "      <td>女性 Woman</td>\n",
       "      <td>45-54</td>\n",
       "      <td>40000-50000</td>\n",
       "      <td>是 Yes</td>\n",
       "      <td>一般燃油汽車 Petrol Fueled Cars;</td>\n",
       "      <td>5年以上</td>\n",
       "      <td>是 Yes</td>\n",
       "      <td>1</td>\n",
       "      <td>一般燃油汽車 Petrol Fueled Cars;</td>\n",
       "      <td>價格;</td>\n",
       "      <td>親友\\tFriends;</td>\n",
       "      <td>電動車 Electric Vehicles</td>\n",
       "    </tr>\n",
       "    <tr>\n",
       "      <th>...</th>\n",
       "      <td>...</td>\n",
       "      <td>...</td>\n",
       "      <td>...</td>\n",
       "      <td>...</td>\n",
       "      <td>...</td>\n",
       "      <td>...</td>\n",
       "      <td>...</td>\n",
       "      <td>...</td>\n",
       "      <td>...</td>\n",
       "      <td>...</td>\n",
       "      <td>...</td>\n",
       "      <td>...</td>\n",
       "    </tr>\n",
       "    <tr>\n",
       "      <th>204</th>\n",
       "      <td>男性 Man</td>\n",
       "      <td>25-34</td>\n",
       "      <td>30000-40000</td>\n",
       "      <td>是 Yes</td>\n",
       "      <td>一般燃油汽車 Petrol Fueled Cars;</td>\n",
       "      <td>3-5年</td>\n",
       "      <td>否 No</td>\n",
       "      <td>NaN</td>\n",
       "      <td>NaN</td>\n",
       "      <td>NaN</td>\n",
       "      <td>電視媒體\\tTV;平面媒體\\tNewspaper;網路媒體\\tOnline media;車展...</td>\n",
       "      <td>電動車 Electric Vehicles</td>\n",
       "    </tr>\n",
       "    <tr>\n",
       "      <th>205</th>\n",
       "      <td>男性 Man</td>\n",
       "      <td>55-64</td>\n",
       "      <td>20000以下</td>\n",
       "      <td>是 Yes</td>\n",
       "      <td>一般燃油汽車 Petrol Fueled Cars;</td>\n",
       "      <td>1年以下</td>\n",
       "      <td>否 No</td>\n",
       "      <td>NaN</td>\n",
       "      <td>NaN</td>\n",
       "      <td>NaN</td>\n",
       "      <td>車展 Auto Show;</td>\n",
       "      <td>一般燃油車 Petrol Fueled Vehilcles</td>\n",
       "    </tr>\n",
       "    <tr>\n",
       "      <th>206</th>\n",
       "      <td>女性 Woman</td>\n",
       "      <td>18-24</td>\n",
       "      <td>30000-40000</td>\n",
       "      <td>是 Yes</td>\n",
       "      <td>一般燃油汽車 Petrol Fueled Cars;</td>\n",
       "      <td>1年以下</td>\n",
       "      <td>否 No</td>\n",
       "      <td>NaN</td>\n",
       "      <td>NaN</td>\n",
       "      <td>NaN</td>\n",
       "      <td>平面媒體\\tNewspaper;網路媒體\\tOnline media;親友\\tFriends;</td>\n",
       "      <td>一般燃油車 Petrol Fueled Vehilcles</td>\n",
       "    </tr>\n",
       "    <tr>\n",
       "      <th>207</th>\n",
       "      <td>女性 Woman</td>\n",
       "      <td>25-34</td>\n",
       "      <td>30000-40000</td>\n",
       "      <td>是 Yes</td>\n",
       "      <td>一般燃油汽車 Petrol Fueled Cars;</td>\n",
       "      <td>5年以上</td>\n",
       "      <td>是 Yes</td>\n",
       "      <td>1</td>\n",
       "      <td>一般燃油汽車 Petrol Fueled Cars;</td>\n",
       "      <td>價格;尺寸;品牌;</td>\n",
       "      <td>網路媒體\\tOnline media;社群平台\\tSocial media;</td>\n",
       "      <td>一般燃油車 Petrol Fueled Vehilcles</td>\n",
       "    </tr>\n",
       "    <tr>\n",
       "      <th>208</th>\n",
       "      <td>女性 Woman</td>\n",
       "      <td>55-64</td>\n",
       "      <td>50000以上</td>\n",
       "      <td>是 Yes</td>\n",
       "      <td>一般燃油汽車 Petrol Fueled Cars;</td>\n",
       "      <td>5年以上</td>\n",
       "      <td>是 Yes</td>\n",
       "      <td>3次以上</td>\n",
       "      <td>一般燃油汽車 Petrol Fueled Cars;</td>\n",
       "      <td>效能;</td>\n",
       "      <td>親友\\tFriends;</td>\n",
       "      <td>電動車 Electric Vehicles</td>\n",
       "    </tr>\n",
       "  </tbody>\n",
       "</table>\n",
       "<p>209 rows × 12 columns</p>\n",
       "</div>"
      ],
      "text/plain": [
       "           性別     年齡       每月平均收入 是否有開車經驗  \\\n",
       "0      男性 Man  25-34      20000以下  是 Yes    \n",
       "1    女性 Woman  18-24      20000以下    否 No   \n",
       "2      男性 Man  25-34      50000以上  是 Yes    \n",
       "3    女性 Woman  45-54  30000-40000  是 Yes    \n",
       "4    女性 Woman  45-54  40000-50000  是 Yes    \n",
       "..        ...    ...          ...     ...   \n",
       "204    男性 Man  25-34  30000-40000  是 Yes    \n",
       "205    男性 Man  55-64      20000以下  是 Yes    \n",
       "206  女性 Woman  18-24  30000-40000  是 Yes    \n",
       "207  女性 Woman  25-34  30000-40000  是 Yes    \n",
       "208  女性 Woman  55-64      50000以上  是 Yes    \n",
       "\n",
       "                                               駕駛過何種車款 開車經驗多長 是否有購車經驗 購車次數為何  \\\n",
       "0                           一般燃油汽車 Petrol Fueled Cars;   1-3年    否 No    NaN   \n",
       "1                                                  NaN    NaN     NaN    NaN   \n",
       "2                           一般燃油汽車 Petrol Fueled Cars;   5年以上    否 No    NaN   \n",
       "3    一般燃油汽車 Petrol Fueled Cars;柴油車 Diesel Fueled Ca...   5年以上   是 Yes      1   \n",
       "4                           一般燃油汽車 Petrol Fueled Cars;   5年以上   是 Yes      1   \n",
       "..                                                 ...    ...     ...    ...   \n",
       "204                         一般燃油汽車 Petrol Fueled Cars;   3-5年    否 No    NaN   \n",
       "205                         一般燃油汽車 Petrol Fueled Cars;   1年以下    否 No    NaN   \n",
       "206                         一般燃油汽車 Petrol Fueled Cars;   1年以下    否 No    NaN   \n",
       "207                         一般燃油汽車 Petrol Fueled Cars;   5年以上   是 Yes      1   \n",
       "208                         一般燃油汽車 Petrol Fueled Cars;   5年以上   是 Yes   3次以上   \n",
       "\n",
       "                       您所購買的車種是 您購車主要考量的因素為何  \\\n",
       "0                           NaN          NaN   \n",
       "1                           NaN          NaN   \n",
       "2                           NaN          NaN   \n",
       "3      柴油車 Diesel Fueled Cars ;   價格;安全性;效能;   \n",
       "4    一般燃油汽車 Petrol Fueled Cars;          價格;   \n",
       "..                          ...          ...   \n",
       "204                         NaN          NaN   \n",
       "205                         NaN          NaN   \n",
       "206                         NaN          NaN   \n",
       "207  一般燃油汽車 Petrol Fueled Cars;    價格;尺寸;品牌;   \n",
       "208  一般燃油汽車 Petrol Fueled Cars;          效能;   \n",
       "\n",
       "                                     請選擇您最常獲得汽車相關訊息的管道  \\\n",
       "0    電視媒體\\tTV;網路媒體\\tOnline media;社群平台\\tSocial media...   \n",
       "1    電視媒體\\tTV;平面媒體\\tNewspaper;網路媒體\\tOnline media;社群...   \n",
       "2               網路媒體\\tOnline media;社群平台\\tSocial media;   \n",
       "3         網路媒體\\tOnline media;車展 Auto Show;親友\\tFriends;   \n",
       "4                                         親友\\tFriends;   \n",
       "..                                                 ...   \n",
       "204  電視媒體\\tTV;平面媒體\\tNewspaper;網路媒體\\tOnline media;車展...   \n",
       "205                                      車展 Auto Show;   \n",
       "206    平面媒體\\tNewspaper;網路媒體\\tOnline media;親友\\tFriends;   \n",
       "207             網路媒體\\tOnline media;社群平台\\tSocial media;   \n",
       "208                                       親友\\tFriends;   \n",
       "\n",
       "                若價格相同情況下，您會優先考慮何種車款  \n",
       "0             電動車 Electric Vehicles  \n",
       "1    一般燃油車 Petrol Fueled Vehilcles   \n",
       "2             電動車 Electric Vehicles  \n",
       "3             電動車 Electric Vehicles  \n",
       "4             電動車 Electric Vehicles  \n",
       "..                              ...  \n",
       "204           電動車 Electric Vehicles  \n",
       "205  一般燃油車 Petrol Fueled Vehilcles   \n",
       "206  一般燃油車 Petrol Fueled Vehilcles   \n",
       "207  一般燃油車 Petrol Fueled Vehilcles   \n",
       "208           電動車 Electric Vehicles  \n",
       "\n",
       "[209 rows x 12 columns]"
      ]
     },
     "execution_count": 4,
     "metadata": {},
     "output_type": "execute_result"
    }
   ],
   "source": [
    "df"
   ]
  },
  {
   "cell_type": "code",
   "execution_count": 5,
   "metadata": {},
   "outputs": [],
   "source": [
    "#刪除未透漏之性別\n",
    "df.drop(df[df.性別.str.contains('^不')].index,inplace=True)"
   ]
  },
  {
   "cell_type": "markdown",
   "metadata": {},
   "source": [
    "## 初始資料分析"
   ]
  },
  {
   "cell_type": "code",
   "execution_count": 6,
   "metadata": {},
   "outputs": [
    {
     "data": {
      "image/png": "[encoded data removed]",
      "text/plain": [
       "<Figure size 720x360 with 1 Axes>"
      ]
     },
     "metadata": {},
     "output_type": "display_data"
    }
   ],
   "source": [
    "plt.figure( figsize=(10,5) ) \n",
    "plt.rcParams['font.sans-serif'] = ['Taipei Sans TC Beta'] \n",
    "df['性別'].value_counts().plot( kind='pie', colors=['lightcoral','skyblue'], autopct='%1.2f%%' ) \n",
    "plt.title( '性別' ) # 圖標題 \n",
    "plt.ylabel( '' ) \n",
    "plt.show()"
   ]
  },
  {
   "cell_type": "code",
   "execution_count": 7,
   "metadata": {},
   "outputs": [
    {
     "data": {
      "image/png": "[encoded data removed]",
      "text/plain": [
       "<Figure size 720x360 with 1 Axes>"
      ]
     },
     "metadata": {},
     "output_type": "display_data"
    }
   ],
   "source": [
    "plt.figure( figsize=(10,5) )\n",
    "df['年齡'].value_counts().plot( kind='pie', autopct='%1.2f%%' )\n",
    "plt.title( '年齡' )  # 圖標題\n",
    "plt.ylabel( '' )\n",
    "plt.show()"
   ]
  },
  {
   "cell_type": "code",
   "execution_count": 8,
   "metadata": {},
   "outputs": [
    {
     "data": {
      "image/png": "[encoded data removed]",
      "text/plain": [
       "<Figure size 720x360 with 1 Axes>"
      ]
     },
     "metadata": {},
     "output_type": "display_data"
    }
   ],
   "source": [
    "plt.figure( figsize=(10,5) )\n",
    "df['每月平均收入'].value_counts().plot( kind='pie', autopct='%1.2f%%' )\n",
    "plt.title( '每月平均收入' )  # 圖標題\n",
    "plt.ylabel( '' )\n",
    "plt.show()"
   ]
  },
  {
   "cell_type": "code",
   "execution_count": 9,
   "metadata": {},
   "outputs": [
    {
     "data": {
      "image/png": "[encoded data removed]",
      "text/plain": [
       "<Figure size 720x360 with 1 Axes>"
      ]
     },
     "metadata": {},
     "output_type": "display_data"
    }
   ],
   "source": [
    "plt.figure( figsize=(10,5) )\n",
    "plt.rcParams['font.sans-serif'] = ['Taipei Sans TC Beta']\n",
    "df['若價格相同情況下，您會優先考慮何種車款'].value_counts().plot( kind='pie', autopct='%1.2f%%' )\n",
    "plt.title( '若價格相同情況下，會優先考慮何種車款' )  # 圖標題\n",
    "plt.ylabel( '' )\n",
    "plt.show()"
   ]
  },
  {
   "cell_type": "code",
   "execution_count": 10,
   "metadata": {},
   "outputs": [
    {
     "data": {
      "image/png": "[encoded data removed]",
      "text/plain": [
       "<Figure size 720x360 with 1 Axes>"
      ]
     },
     "metadata": {},
     "output_type": "display_data"
    }
   ],
   "source": [
    "plt.figure( figsize=(10,5) )\n",
    "df['開車經驗多長'].value_counts().plot( kind='pie', autopct='%1.2f%%' )\n",
    "plt.title( '開車經驗多長' )  # 圖標題\n",
    "plt.ylabel( '' )\n",
    "plt.show()"
   ]
  },
  {
   "cell_type": "code",
   "execution_count": 11,
   "metadata": {},
   "outputs": [
    {
     "data": {
      "image/png": "[encoded data removed]",
      "text/plain": [
       "<Figure size 720x360 with 1 Axes>"
      ]
     },
     "metadata": {},
     "output_type": "display_data"
    }
   ],
   "source": [
    "plt.figure( figsize=(10,5) ) \n",
    "df['是否有開車經驗'].value_counts().plot( kind='pie', colors=['lightcoral','skyblue'], autopct='%1.2f%%' ) \n",
    "plt.title( '開車經驗' ) # 圖標題 \n",
    "plt.ylabel( '' ) \n",
    "plt.show()"
   ]
  },
  {
   "cell_type": "code",
   "execution_count": 12,
   "metadata": {},
   "outputs": [
    {
     "data": {
      "image/png": "[encoded data removed]",
      "text/plain": [
       "<Figure size 720x360 with 1 Axes>"
      ]
     },
     "metadata": {},
     "output_type": "display_data"
    }
   ],
   "source": [
    "plt.figure( figsize=(10,5) ) \n",
    "df['是否有購車經驗'].value_counts().plot( kind='pie', colors=['lightcoral','skyblue'], autopct='%1.2f%%' ) \n",
    "plt.title( '購車經驗' ) # 圖標題 \n",
    "plt.ylabel( '' ) \n",
    "plt.show()"
   ]
  },
  {
   "cell_type": "code",
   "execution_count": 13,
   "metadata": {},
   "outputs": [],
   "source": [
    "y = [x for x in df['請選擇您最常獲得汽車相關訊息的管道'].str.split(';')]"
   ]
  },
  {
   "cell_type": "code",
   "execution_count": 14,
   "metadata": {},
   "outputs": [],
   "source": [
    "#多選題資料設置\n",
    "TV = 0\n",
    "Online_media = 0\n",
    "Social_media = 0\n",
    "Friends = 0\n",
    "Newspaper = 0\n",
    "Auto_Show = 0\n",
    "Car_website = 0\n",
    "Other = 0\n",
    "\n",
    "for item in y:\n",
    "    #print(item)\n",
    "    for x in item:\n",
    "        if x == '電視媒體\\tTV':\n",
    "            TV += 1\n",
    "        elif x == '網路媒體\\tOnline media':\n",
    "            Online_media += 1\n",
    "        elif x == '社群平台\\tSocial media':\n",
    "            Social_media += 1\n",
    "        elif x == '親友\\tFriends':\n",
    "            Friends += 1\n",
    "        elif x == '車展 Auto Show':\n",
    "            Auto_Show += 1\n",
    "        elif x == '車商網站 Car website':\n",
    "            Car_website += 1\n",
    "        elif x == '其他 Other':\n",
    "            Other += 1\n",
    "        elif x == '平面媒體\\tNewspaper':\n",
    "            Newspaper += 1\n",
    "        \n",
    "#print(TV)\n",
    "#print(Online_media)\n",
    "#print(Social_media)\n",
    "#print(Friends)\n",
    "#print(Newspaper)\n",
    "#print(Auto_Show)\n",
    "#print(Car_website)\n",
    "#print(Other)"
   ]
  },
  {
   "cell_type": "code",
   "execution_count": 15,
   "metadata": {},
   "outputs": [
    {
     "data": {
      "image/png": "[encoded data removed]",
      "text/plain": [
       "<Figure size 720x360 with 1 Axes>"
      ]
     },
     "metadata": {},
     "output_type": "display_data"
    }
   ],
   "source": [
    "plt.figure(figsize = (10,5))\n",
    "labels = ('TV','Online media', 'Social media', 'Friends','Newspaper','Auto Show','Car website','Other')\n",
    "share = [TV, Online_media, Social_media,Friends,Newspaper,Auto_Show,Car_website,Other]\n",
    "x=np.arange(len(labels))               #產生 X 軸座標序列\n",
    "plt.bar(x, share, color=['cornflowerblue'],width=0.5)                  #繪製長條圖\n",
    "plt.xticks(x, labels)                        #設定 X 軸刻度標籤\n",
    "plt.title('請選擇您最常獲得汽車相關訊息的管道')    #設定圖形標題\n",
    "plt.show()"
   ]
  },
  {
   "cell_type": "code",
   "execution_count": 16,
   "metadata": {},
   "outputs": [],
   "source": [
    "y1 = [x for x in df['您購車主要考量的因素為何'].str.split(';')]"
   ]
  },
  {
   "cell_type": "code",
   "execution_count": 17,
   "metadata": {},
   "outputs": [],
   "source": [
    "cleanedList = [x for x in y1 if str(x) != 'nan']"
   ]
  },
  {
   "cell_type": "code",
   "execution_count": 18,
   "metadata": {},
   "outputs": [],
   "source": [
    "Price = 0\n",
    "Safety = 0\n",
    "Size = 0\n",
    "Performance = 0\n",
    "Environmentally_Friendly = 0\n",
    "Brand = 0\n",
    "Resold_Value = 0\n",
    "Service = 0\n",
    "Other = 0\n",
    "\n",
    "for select in cleanedList:\n",
    "    #print(select)\n",
    "    for i in select:\n",
    "        if i == '價格':\n",
    "            Price += 1\n",
    "        elif i == '安全性':\n",
    "            Safety += 1\n",
    "        elif i == '尺寸':\n",
    "            Size += 1\n",
    "        elif i == '環保':\n",
    "            Environmentally_Friendly += 1\n",
    "        elif i == '效能':\n",
    "            Performance += 1\n",
    "        elif i == '服務':\n",
    "            Service += 1\n",
    "        elif i == '品牌':\n",
    "            Brand += 1\n",
    "        elif i == '二手保值性':\n",
    "            Resold_Value += 1\n",
    "        elif i == '':\n",
    "            i\n",
    "        else:\n",
    "            Other +=1\n",
    "        \n",
    "#print(Price)\n",
    "#print(Safety)\n",
    "#print(Size)\n",
    "#print(Performance)\n",
    "#print(Environmentally_Friendly)\n",
    "#print(Service)\n",
    "#print(Brand)\n",
    "#print(Resold_Value)\n",
    "#print(Other)"
   ]
  },
  {
   "cell_type": "code",
   "execution_count": 20,
   "metadata": {},
   "outputs": [
    {
     "data": {
      "image/png": "[encoded data removed]",
      "text/plain": [
       "<Figure size 864x432 with 1 Axes>"
      ]
     },
     "metadata": {},
     "output_type": "display_data"
    }
   ],
   "source": [
    "plt.figure(figsize = (12,6))\n",
    "labels = ('Price','Safety', 'Size', 'Performance','Environmental','Service','Brand','Resold_Value','Other')\n",
    "share = [Price, Safety, Size,Performance,Environmentally_Friendly,Service,Brand,Resold_Value,Other]\n",
    "x=np.arange(len(labels))               #產生 X 軸座標序列\n",
    "plt.bar(x, share, color=['cornflowerblue'],width=0.5)                  #繪製長條圖\n",
    "plt.xticks(x, labels)                        #設定 X 軸刻度標籤\n",
    "plt.title('購車主要考量的因素')    #設定圖形標題\n",
    "for rect in plt.bar(x, share, color=['cornflowerblue'],width=0.5)  :\n",
    "    height = rect.get_height()\n",
    "    plt.text(rect.get_x() + rect.get_width()/2.0, height, '%d' % int(height), ha='center', va='bottom')\n",
    "plt.show()"
   ]
  },
  {
   "cell_type": "markdown",
   "metadata": {},
   "source": [
    "## 交叉分析"
   ]
  },
  {
   "cell_type": "code",
   "execution_count": 19,
   "metadata": {},
   "outputs": [],
   "source": [
    "#將資料轉換為數值(電動車=1,一般車=0)\n",
    "df['Buy'] = df['若價格相同情況下，您會優先考慮何種車款'].replace( '一般燃油車 Petrol Fueled Vehilcles', '0',regex=True)\n",
    "df['Buy'].replace( '電動車 Electric Vehicles', '1',inplace=True)"
   ]
  },
  {
   "cell_type": "code",
   "execution_count": 20,
   "metadata": {},
   "outputs": [
    {
     "data": {
      "text/html": [
       "<div>\n",
       "<style scoped>\n",
       "    .dataframe tbody tr th:only-of-type {\n",
       "        vertical-align: middle;\n",
       "    }\n",
       "\n",
       "    .dataframe tbody tr th {\n",
       "        vertical-align: top;\n",
       "    }\n",
       "\n",
       "    .dataframe thead th {\n",
       "        text-align: right;\n",
       "    }\n",
       "</style>\n",
       "<table border=\"1\" class=\"dataframe\">\n",
       "  <thead>\n",
       "    <tr style=\"text-align: right;\">\n",
       "      <th></th>\n",
       "      <th>性別</th>\n",
       "      <th>年齡</th>\n",
       "      <th>每月平均收入</th>\n",
       "      <th>是否有開車經驗</th>\n",
       "      <th>駕駛過何種車款</th>\n",
       "      <th>開車經驗多長</th>\n",
       "      <th>是否有購車經驗</th>\n",
       "      <th>購車次數為何</th>\n",
       "      <th>您所購買的車種是</th>\n",
       "      <th>您購車主要考量的因素為何</th>\n",
       "      <th>請選擇您最常獲得汽車相關訊息的管道</th>\n",
       "      <th>若價格相同情況下，您會優先考慮何種車款</th>\n",
       "      <th>Buy</th>\n",
       "    </tr>\n",
       "  </thead>\n",
       "  <tbody>\n",
       "    <tr>\n",
       "      <th>0</th>\n",
       "      <td>男性 Man</td>\n",
       "      <td>25-34</td>\n",
       "      <td>20000以下</td>\n",
       "      <td>是 Yes</td>\n",
       "      <td>一般燃油汽車 Petrol Fueled Cars;</td>\n",
       "      <td>1-3年</td>\n",
       "      <td>否 No</td>\n",
       "      <td>NaN</td>\n",
       "      <td>NaN</td>\n",
       "      <td>NaN</td>\n",
       "      <td>電視媒體\\tTV;網路媒體\\tOnline media;社群平台\\tSocial media...</td>\n",
       "      <td>電動車 Electric Vehicles</td>\n",
       "      <td>1</td>\n",
       "    </tr>\n",
       "    <tr>\n",
       "      <th>1</th>\n",
       "      <td>女性 Woman</td>\n",
       "      <td>18-24</td>\n",
       "      <td>20000以下</td>\n",
       "      <td>否 No</td>\n",
       "      <td>NaN</td>\n",
       "      <td>NaN</td>\n",
       "      <td>NaN</td>\n",
       "      <td>NaN</td>\n",
       "      <td>NaN</td>\n",
       "      <td>NaN</td>\n",
       "      <td>電視媒體\\tTV;平面媒體\\tNewspaper;網路媒體\\tOnline media;社群...</td>\n",
       "      <td>一般燃油車 Petrol Fueled Vehilcles</td>\n",
       "      <td>0</td>\n",
       "    </tr>\n",
       "    <tr>\n",
       "      <th>2</th>\n",
       "      <td>男性 Man</td>\n",
       "      <td>25-34</td>\n",
       "      <td>50000以上</td>\n",
       "      <td>是 Yes</td>\n",
       "      <td>一般燃油汽車 Petrol Fueled Cars;</td>\n",
       "      <td>5年以上</td>\n",
       "      <td>否 No</td>\n",
       "      <td>NaN</td>\n",
       "      <td>NaN</td>\n",
       "      <td>NaN</td>\n",
       "      <td>網路媒體\\tOnline media;社群平台\\tSocial media;</td>\n",
       "      <td>電動車 Electric Vehicles</td>\n",
       "      <td>1</td>\n",
       "    </tr>\n",
       "    <tr>\n",
       "      <th>3</th>\n",
       "      <td>女性 Woman</td>\n",
       "      <td>45-54</td>\n",
       "      <td>30000-40000</td>\n",
       "      <td>是 Yes</td>\n",
       "      <td>一般燃油汽車 Petrol Fueled Cars;柴油車 Diesel Fueled Ca...</td>\n",
       "      <td>5年以上</td>\n",
       "      <td>是 Yes</td>\n",
       "      <td>1</td>\n",
       "      <td>柴油車 Diesel Fueled Cars ;</td>\n",
       "      <td>價格;安全性;效能;</td>\n",
       "      <td>網路媒體\\tOnline media;車展 Auto Show;親友\\tFriends;</td>\n",
       "      <td>電動車 Electric Vehicles</td>\n",
       "      <td>1</td>\n",
       "    </tr>\n",
       "    <tr>\n",
       "      <th>4</th>\n",
       "      <td>女性 Woman</td>\n",
       "      <td>45-54</td>\n",
       "      <td>40000-50000</td>\n",
       "      <td>是 Yes</td>\n",
       "      <td>一般燃油汽車 Petrol Fueled Cars;</td>\n",
       "      <td>5年以上</td>\n",
       "      <td>是 Yes</td>\n",
       "      <td>1</td>\n",
       "      <td>一般燃油汽車 Petrol Fueled Cars;</td>\n",
       "      <td>價格;</td>\n",
       "      <td>親友\\tFriends;</td>\n",
       "      <td>電動車 Electric Vehicles</td>\n",
       "      <td>1</td>\n",
       "    </tr>\n",
       "    <tr>\n",
       "      <th>...</th>\n",
       "      <td>...</td>\n",
       "      <td>...</td>\n",
       "      <td>...</td>\n",
       "      <td>...</td>\n",
       "      <td>...</td>\n",
       "      <td>...</td>\n",
       "      <td>...</td>\n",
       "      <td>...</td>\n",
       "      <td>...</td>\n",
       "      <td>...</td>\n",
       "      <td>...</td>\n",
       "      <td>...</td>\n",
       "      <td>...</td>\n",
       "    </tr>\n",
       "    <tr>\n",
       "      <th>204</th>\n",
       "      <td>男性 Man</td>\n",
       "      <td>25-34</td>\n",
       "      <td>30000-40000</td>\n",
       "      <td>是 Yes</td>\n",
       "      <td>一般燃油汽車 Petrol Fueled Cars;</td>\n",
       "      <td>3-5年</td>\n",
       "      <td>否 No</td>\n",
       "      <td>NaN</td>\n",
       "      <td>NaN</td>\n",
       "      <td>NaN</td>\n",
       "      <td>電視媒體\\tTV;平面媒體\\tNewspaper;網路媒體\\tOnline media;車展...</td>\n",
       "      <td>電動車 Electric Vehicles</td>\n",
       "      <td>1</td>\n",
       "    </tr>\n",
       "    <tr>\n",
       "      <th>205</th>\n",
       "      <td>男性 Man</td>\n",
       "      <td>55-64</td>\n",
       "      <td>20000以下</td>\n",
       "      <td>是 Yes</td>\n",
       "      <td>一般燃油汽車 Petrol Fueled Cars;</td>\n",
       "      <td>1年以下</td>\n",
       "      <td>否 No</td>\n",
       "      <td>NaN</td>\n",
       "      <td>NaN</td>\n",
       "      <td>NaN</td>\n",
       "      <td>車展 Auto Show;</td>\n",
       "      <td>一般燃油車 Petrol Fueled Vehilcles</td>\n",
       "      <td>0</td>\n",
       "    </tr>\n",
       "    <tr>\n",
       "      <th>206</th>\n",
       "      <td>女性 Woman</td>\n",
       "      <td>18-24</td>\n",
       "      <td>30000-40000</td>\n",
       "      <td>是 Yes</td>\n",
       "      <td>一般燃油汽車 Petrol Fueled Cars;</td>\n",
       "      <td>1年以下</td>\n",
       "      <td>否 No</td>\n",
       "      <td>NaN</td>\n",
       "      <td>NaN</td>\n",
       "      <td>NaN</td>\n",
       "      <td>平面媒體\\tNewspaper;網路媒體\\tOnline media;親友\\tFriends;</td>\n",
       "      <td>一般燃油車 Petrol Fueled Vehilcles</td>\n",
       "      <td>0</td>\n",
       "    </tr>\n",
       "    <tr>\n",
       "      <th>207</th>\n",
       "      <td>女性 Woman</td>\n",
       "      <td>25-34</td>\n",
       "      <td>30000-40000</td>\n",
       "      <td>是 Yes</td>\n",
       "      <td>一般燃油汽車 Petrol Fueled Cars;</td>\n",
       "      <td>5年以上</td>\n",
       "      <td>是 Yes</td>\n",
       "      <td>1</td>\n",
       "      <td>一般燃油汽車 Petrol Fueled Cars;</td>\n",
       "      <td>價格;尺寸;品牌;</td>\n",
       "      <td>網路媒體\\tOnline media;社群平台\\tSocial media;</td>\n",
       "      <td>一般燃油車 Petrol Fueled Vehilcles</td>\n",
       "      <td>0</td>\n",
       "    </tr>\n",
       "    <tr>\n",
       "      <th>208</th>\n",
       "      <td>女性 Woman</td>\n",
       "      <td>55-64</td>\n",
       "      <td>50000以上</td>\n",
       "      <td>是 Yes</td>\n",
       "      <td>一般燃油汽車 Petrol Fueled Cars;</td>\n",
       "      <td>5年以上</td>\n",
       "      <td>是 Yes</td>\n",
       "      <td>3次以上</td>\n",
       "      <td>一般燃油汽車 Petrol Fueled Cars;</td>\n",
       "      <td>效能;</td>\n",
       "      <td>親友\\tFriends;</td>\n",
       "      <td>電動車 Electric Vehicles</td>\n",
       "      <td>1</td>\n",
       "    </tr>\n",
       "  </tbody>\n",
       "</table>\n",
       "<p>206 rows × 13 columns</p>\n",
       "</div>"
      ],
      "text/plain": [
       "           性別     年齡       每月平均收入 是否有開車經驗  \\\n",
       "0      男性 Man  25-34      20000以下  是 Yes    \n",
       "1    女性 Woman  18-24      20000以下    否 No   \n",
       "2      男性 Man  25-34      50000以上  是 Yes    \n",
       "3    女性 Woman  45-54  30000-40000  是 Yes    \n",
       "4    女性 Woman  45-54  40000-50000  是 Yes    \n",
       "..        ...    ...          ...     ...   \n",
       "204    男性 Man  25-34  30000-40000  是 Yes    \n",
       "205    男性 Man  55-64      20000以下  是 Yes    \n",
       "206  女性 Woman  18-24  30000-40000  是 Yes    \n",
       "207  女性 Woman  25-34  30000-40000  是 Yes    \n",
       "208  女性 Woman  55-64      50000以上  是 Yes    \n",
       "\n",
       "                                               駕駛過何種車款 開車經驗多長 是否有購車經驗 購車次數為何  \\\n",
       "0                           一般燃油汽車 Petrol Fueled Cars;   1-3年    否 No    NaN   \n",
       "1                                                  NaN    NaN     NaN    NaN   \n",
       "2                           一般燃油汽車 Petrol Fueled Cars;   5年以上    否 No    NaN   \n",
       "3    一般燃油汽車 Petrol Fueled Cars;柴油車 Diesel Fueled Ca...   5年以上   是 Yes      1   \n",
       "4                           一般燃油汽車 Petrol Fueled Cars;   5年以上   是 Yes      1   \n",
       "..                                                 ...    ...     ...    ...   \n",
       "204                         一般燃油汽車 Petrol Fueled Cars;   3-5年    否 No    NaN   \n",
       "205                         一般燃油汽車 Petrol Fueled Cars;   1年以下    否 No    NaN   \n",
       "206                         一般燃油汽車 Petrol Fueled Cars;   1年以下    否 No    NaN   \n",
       "207                         一般燃油汽車 Petrol Fueled Cars;   5年以上   是 Yes      1   \n",
       "208                         一般燃油汽車 Petrol Fueled Cars;   5年以上   是 Yes   3次以上   \n",
       "\n",
       "                       您所購買的車種是 您購車主要考量的因素為何  \\\n",
       "0                           NaN          NaN   \n",
       "1                           NaN          NaN   \n",
       "2                           NaN          NaN   \n",
       "3      柴油車 Diesel Fueled Cars ;   價格;安全性;效能;   \n",
       "4    一般燃油汽車 Petrol Fueled Cars;          價格;   \n",
       "..                          ...          ...   \n",
       "204                         NaN          NaN   \n",
       "205                         NaN          NaN   \n",
       "206                         NaN          NaN   \n",
       "207  一般燃油汽車 Petrol Fueled Cars;    價格;尺寸;品牌;   \n",
       "208  一般燃油汽車 Petrol Fueled Cars;          效能;   \n",
       "\n",
       "                                     請選擇您最常獲得汽車相關訊息的管道  \\\n",
       "0    電視媒體\\tTV;網路媒體\\tOnline media;社群平台\\tSocial media...   \n",
       "1    電視媒體\\tTV;平面媒體\\tNewspaper;網路媒體\\tOnline media;社群...   \n",
       "2               網路媒體\\tOnline media;社群平台\\tSocial media;   \n",
       "3         網路媒體\\tOnline media;車展 Auto Show;親友\\tFriends;   \n",
       "4                                         親友\\tFriends;   \n",
       "..                                                 ...   \n",
       "204  電視媒體\\tTV;平面媒體\\tNewspaper;網路媒體\\tOnline media;車展...   \n",
       "205                                      車展 Auto Show;   \n",
       "206    平面媒體\\tNewspaper;網路媒體\\tOnline media;親友\\tFriends;   \n",
       "207             網路媒體\\tOnline media;社群平台\\tSocial media;   \n",
       "208                                       親友\\tFriends;   \n",
       "\n",
       "                若價格相同情況下，您會優先考慮何種車款 Buy  \n",
       "0             電動車 Electric Vehicles   1  \n",
       "1    一般燃油車 Petrol Fueled Vehilcles   0   \n",
       "2             電動車 Electric Vehicles   1  \n",
       "3             電動車 Electric Vehicles   1  \n",
       "4             電動車 Electric Vehicles   1  \n",
       "..                              ...  ..  \n",
       "204           電動車 Electric Vehicles   1  \n",
       "205  一般燃油車 Petrol Fueled Vehilcles   0   \n",
       "206  一般燃油車 Petrol Fueled Vehilcles   0   \n",
       "207  一般燃油車 Petrol Fueled Vehilcles   0   \n",
       "208           電動車 Electric Vehicles   1  \n",
       "\n",
       "[206 rows x 13 columns]"
      ]
     },
     "execution_count": 20,
     "metadata": {},
     "output_type": "execute_result"
    }
   ],
   "source": [
    "df"
   ]
  },
  {
   "cell_type": "code",
   "execution_count": 21,
   "metadata": {},
   "outputs": [
    {
     "data": {
      "image/png": "[encoded data removed]",
      "text/plain": [
       "<Figure size 720x2160 with 3 Axes>"
      ]
     },
     "metadata": {},
     "output_type": "display_data"
    }
   ],
   "source": [
    "selected_cols = ['性別','是否有開車經驗','是否有購車經驗']\n",
    "\n",
    "plt.figure( figsize=(10,len(selected_cols)*10) )\n",
    "gs = gridspec.GridSpec(len(selected_cols),1)    \n",
    "for i, col in enumerate( df[selected_cols] ) :        \n",
    "    ax = plt.subplot( gs[i] )\n",
    "    sns.countplot( x=df[col], hue=df.Buy, palette=['lightcoral','skyblue'] )\n",
    "    ax.set_yticklabels([])\n",
    "    ax.set_ylabel( 'Counts' )\n",
    "    ax.legend( loc=1 )   # upper right:1 ; upper left:2\n",
    "    for p in ax.patches:\n",
    "        ax.annotate( '{:,}'.format(p.get_height()), (p.get_x(), p.get_height()+1.5) )\n",
    "plt.show()"
   ]
  },
  {
   "cell_type": "code",
   "execution_count": 22,
   "metadata": {},
   "outputs": [
    {
     "data": {
      "image/png": "[encoded data removed]",
      "text/plain": [
       "<Figure size 720x576 with 1 Axes>"
      ]
     },
     "metadata": {},
     "output_type": "display_data"
    }
   ],
   "source": [
    "selected_cols = ['每月平均收入']\n",
    "\n",
    "plt.figure( figsize=(10,len(selected_cols)*8) )\n",
    "gs = gridspec.GridSpec(len(selected_cols),1)  \n",
    "for i, col in enumerate( df[selected_cols] ) :        \n",
    "    ax = plt.subplot( gs[i] )\n",
    "    sns.countplot( x=df[col],order=['20000以下','20000-30000','30000-40000','40000-50000','50000以上'], hue=df.Buy, palette=['lightcoral','skyblue'] )\n",
    "    ax.set_yticklabels([])\n",
    "    ax.set_ylabel( 'Counts' )\n",
    "    ax.legend( loc=2 )   # upper right:1 ; upper left:2\n",
    "    for p in ax.patches:\n",
    "        ax.annotate( '{:,}'.format(p.get_height()), (p.get_x(), p.get_height()+1.5) )\n",
    "plt.show()"
   ]
  },
  {
   "cell_type": "code",
   "execution_count": 23,
   "metadata": {},
   "outputs": [
    {
     "data": {
      "image/png": "[encoded data removed]",
      "text/plain": [
       "<Figure size 720x432 with 1 Axes>"
      ]
     },
     "metadata": {},
     "output_type": "display_data"
    }
   ],
   "source": [
    "selected_cols = ['每月平均收入']\n",
    "\n",
    "plt.figure( figsize=(10,len(selected_cols)*6) )\n",
    "sns.countplot( x=df['每月平均收入'],order=['20000以下','20000-30000','30000-40000','40000-50000','50000以上'], hue=df.Buy, palette=['lightcoral','skyblue'] )\n",
    "ax.set_yticklabels([])\n",
    "ax.set_ylabel( 'Counts' )\n",
    "ax.legend( loc=2 )   # upper right:1 ; upper left:2\n",
    "\n",
    "plt.show()"
   ]
  },
  {
   "cell_type": "code",
   "execution_count": 28,
   "metadata": {},
   "outputs": [
    {
     "data": {
      "image/png": "[encoded data removed]",
      "text/plain": [
       "<Figure size 720x432 with 1 Axes>"
      ]
     },
     "metadata": {},
     "output_type": "display_data"
    }
   ],
   "source": [
    "selected_cols = ['年齡']\n",
    "\n",
    "plt.figure( figsize=(10,len(selected_cols)*6) )\n",
    "gs = gridspec.GridSpec(len(selected_cols),1)  \n",
    "for i, col in enumerate( df[selected_cols] ) :        \n",
    "    ax = plt.subplot( gs[i] )\n",
    "    sns.countplot( x=df[col],order=['18-24','25-34','35-44','45-54','55-64','65以上'], hue=df.Buy, palette=['lightcoral','skyblue'] )\n",
    "    ax.set_yticklabels([])\n",
    "    ax.set_ylabel( 'Counts' )\n",
    "    ax.legend( loc=2 )   # upper right:1 ; upper left:2\n",
    "for p in ax.patches:\n",
    "    ax.annotate( '{:,}'.format(p.get_height()), (p.get_x(), p.get_height()+1) )\n",
    "plt.show()"
   ]
  },
  {
   "cell_type": "code",
   "execution_count": 30,
   "metadata": {},
   "outputs": [
    {
     "data": {
      "image/png": "[encoded data removed]",
      "text/plain": [
       "<Figure size 720x360 with 1 Axes>"
      ]
     },
     "metadata": {},
     "output_type": "display_data"
    }
   ],
   "source": [
    "selected_cols = ['開車經驗多長']\n",
    "\n",
    "plt.figure( figsize=(10,len(selected_cols)*5) )\n",
    "gs = gridspec.GridSpec(len(selected_cols),1)  \n",
    "for i, col in enumerate( df[selected_cols] ) :        \n",
    "    ax = plt.subplot( gs[i] )\n",
    "    sns.countplot( x=df[col],order=['1年以下','1-3年','3-5年','5年以上'], hue=df.Buy, palette=['lightcoral','skyblue'] )\n",
    "    ax.set_yticklabels([])\n",
    "    ax.set_ylabel( 'Counts' )\n",
    "    ax.legend( loc=2)   # upper right:1 ; upper left:2\n",
    "for p in ax.patches:\n",
    "    ax.annotate( '{:,}'.format(p.get_height()), (p.get_x(), p.get_height()+1) )\n",
    "plt.show()"
   ]
  },
  {
   "cell_type": "code",
   "execution_count": 31,
   "metadata": {},
   "outputs": [
    {
     "data": {
      "image/png": "[encoded data removed]",
      "text/plain": [
       "<Figure size 576x360 with 1 Axes>"
      ]
     },
     "metadata": {},
     "output_type": "display_data"
    }
   ],
   "source": [
    "selected_cols = ['購車次數為何']\n",
    "\n",
    "plt.figure( figsize=(8,len(selected_cols)*5) )\n",
    "gs = gridspec.GridSpec(len(selected_cols),1)  \n",
    "for i, col in enumerate( df[selected_cols] ) :        \n",
    "    ax = plt.subplot( gs[i] )\n",
    "    sns.countplot( x=df[col],order=['1','2','3次以上'], hue=df.Buy, palette=['lightcoral','skyblue'] )\n",
    "    ax.set_yticklabels([])\n",
    "    ax.set_ylabel( 'Counts' )\n",
    "    ax.set_xlabel( '購車次數' )\n",
    "    ax.legend( loc=1 )   # upper right:1 ; upper left:2\n",
    "for p in ax.patches:\n",
    "    ax.annotate( '{:,}'.format(p.get_height()), (p.get_x(), p.get_height()+0.5) )\n",
    "plt.show()"
   ]
  },
  {
   "cell_type": "markdown",
   "metadata": {},
   "source": [
    "## 資料清理"
   ]
  },
  {
   "cell_type": "code",
   "execution_count": 32,
   "metadata": {},
   "outputs": [],
   "source": [
    "df1 = df.drop(df.columns[[4,8,9,10,11]],axis=1)"
   ]
  },
  {
   "cell_type": "code",
   "execution_count": 33,
   "metadata": {},
   "outputs": [
    {
     "data": {
      "text/html": [
       "<div>\n",
       "<style scoped>\n",
       "    .dataframe tbody tr th:only-of-type {\n",
       "        vertical-align: middle;\n",
       "    }\n",
       "\n",
       "    .dataframe tbody tr th {\n",
       "        vertical-align: top;\n",
       "    }\n",
       "\n",
       "    .dataframe thead th {\n",
       "        text-align: right;\n",
       "    }\n",
       "</style>\n",
       "<table border=\"1\" class=\"dataframe\">\n",
       "  <thead>\n",
       "    <tr style=\"text-align: right;\">\n",
       "      <th></th>\n",
       "      <th>性別</th>\n",
       "      <th>年齡</th>\n",
       "      <th>每月平均收入</th>\n",
       "      <th>是否有開車經驗</th>\n",
       "      <th>開車經驗多長</th>\n",
       "      <th>是否有購車經驗</th>\n",
       "      <th>購車次數為何</th>\n",
       "      <th>Buy</th>\n",
       "    </tr>\n",
       "  </thead>\n",
       "  <tbody>\n",
       "    <tr>\n",
       "      <th>0</th>\n",
       "      <td>男性 Man</td>\n",
       "      <td>25-34</td>\n",
       "      <td>20000以下</td>\n",
       "      <td>是 Yes</td>\n",
       "      <td>1-3年</td>\n",
       "      <td>否 No</td>\n",
       "      <td>NaN</td>\n",
       "      <td>1</td>\n",
       "    </tr>\n",
       "    <tr>\n",
       "      <th>1</th>\n",
       "      <td>女性 Woman</td>\n",
       "      <td>18-24</td>\n",
       "      <td>20000以下</td>\n",
       "      <td>否 No</td>\n",
       "      <td>NaN</td>\n",
       "      <td>NaN</td>\n",
       "      <td>NaN</td>\n",
       "      <td>0</td>\n",
       "    </tr>\n",
       "    <tr>\n",
       "      <th>2</th>\n",
       "      <td>男性 Man</td>\n",
       "      <td>25-34</td>\n",
       "      <td>50000以上</td>\n",
       "      <td>是 Yes</td>\n",
       "      <td>5年以上</td>\n",
       "      <td>否 No</td>\n",
       "      <td>NaN</td>\n",
       "      <td>1</td>\n",
       "    </tr>\n",
       "    <tr>\n",
       "      <th>3</th>\n",
       "      <td>女性 Woman</td>\n",
       "      <td>45-54</td>\n",
       "      <td>30000-40000</td>\n",
       "      <td>是 Yes</td>\n",
       "      <td>5年以上</td>\n",
       "      <td>是 Yes</td>\n",
       "      <td>1</td>\n",
       "      <td>1</td>\n",
       "    </tr>\n",
       "    <tr>\n",
       "      <th>4</th>\n",
       "      <td>女性 Woman</td>\n",
       "      <td>45-54</td>\n",
       "      <td>40000-50000</td>\n",
       "      <td>是 Yes</td>\n",
       "      <td>5年以上</td>\n",
       "      <td>是 Yes</td>\n",
       "      <td>1</td>\n",
       "      <td>1</td>\n",
       "    </tr>\n",
       "    <tr>\n",
       "      <th>...</th>\n",
       "      <td>...</td>\n",
       "      <td>...</td>\n",
       "      <td>...</td>\n",
       "      <td>...</td>\n",
       "      <td>...</td>\n",
       "      <td>...</td>\n",
       "      <td>...</td>\n",
       "      <td>...</td>\n",
       "    </tr>\n",
       "    <tr>\n",
       "      <th>204</th>\n",
       "      <td>男性 Man</td>\n",
       "      <td>25-34</td>\n",
       "      <td>30000-40000</td>\n",
       "      <td>是 Yes</td>\n",
       "      <td>3-5年</td>\n",
       "      <td>否 No</td>\n",
       "      <td>NaN</td>\n",
       "      <td>1</td>\n",
       "    </tr>\n",
       "    <tr>\n",
       "      <th>205</th>\n",
       "      <td>男性 Man</td>\n",
       "      <td>55-64</td>\n",
       "      <td>20000以下</td>\n",
       "      <td>是 Yes</td>\n",
       "      <td>1年以下</td>\n",
       "      <td>否 No</td>\n",
       "      <td>NaN</td>\n",
       "      <td>0</td>\n",
       "    </tr>\n",
       "    <tr>\n",
       "      <th>206</th>\n",
       "      <td>女性 Woman</td>\n",
       "      <td>18-24</td>\n",
       "      <td>30000-40000</td>\n",
       "      <td>是 Yes</td>\n",
       "      <td>1年以下</td>\n",
       "      <td>否 No</td>\n",
       "      <td>NaN</td>\n",
       "      <td>0</td>\n",
       "    </tr>\n",
       "    <tr>\n",
       "      <th>207</th>\n",
       "      <td>女性 Woman</td>\n",
       "      <td>25-34</td>\n",
       "      <td>30000-40000</td>\n",
       "      <td>是 Yes</td>\n",
       "      <td>5年以上</td>\n",
       "      <td>是 Yes</td>\n",
       "      <td>1</td>\n",
       "      <td>0</td>\n",
       "    </tr>\n",
       "    <tr>\n",
       "      <th>208</th>\n",
       "      <td>女性 Woman</td>\n",
       "      <td>55-64</td>\n",
       "      <td>50000以上</td>\n",
       "      <td>是 Yes</td>\n",
       "      <td>5年以上</td>\n",
       "      <td>是 Yes</td>\n",
       "      <td>3次以上</td>\n",
       "      <td>1</td>\n",
       "    </tr>\n",
       "  </tbody>\n",
       "</table>\n",
       "<p>206 rows × 8 columns</p>\n",
       "</div>"
      ],
      "text/plain": [
       "           性別     年齡       每月平均收入 是否有開車經驗 開車經驗多長 是否有購車經驗 購車次數為何 Buy\n",
       "0      男性 Man  25-34      20000以下  是 Yes    1-3年    否 No    NaN   1\n",
       "1    女性 Woman  18-24      20000以下    否 No    NaN     NaN    NaN  0 \n",
       "2      男性 Man  25-34      50000以上  是 Yes    5年以上    否 No    NaN   1\n",
       "3    女性 Woman  45-54  30000-40000  是 Yes    5年以上   是 Yes      1   1\n",
       "4    女性 Woman  45-54  40000-50000  是 Yes    5年以上   是 Yes      1   1\n",
       "..        ...    ...          ...     ...    ...     ...    ...  ..\n",
       "204    男性 Man  25-34  30000-40000  是 Yes    3-5年    否 No    NaN   1\n",
       "205    男性 Man  55-64      20000以下  是 Yes    1年以下    否 No    NaN  0 \n",
       "206  女性 Woman  18-24  30000-40000  是 Yes    1年以下    否 No    NaN  0 \n",
       "207  女性 Woman  25-34  30000-40000  是 Yes    5年以上   是 Yes      1  0 \n",
       "208  女性 Woman  55-64      50000以上  是 Yes    5年以上   是 Yes   3次以上   1\n",
       "\n",
       "[206 rows x 8 columns]"
      ]
     },
     "execution_count": 33,
     "metadata": {},
     "output_type": "execute_result"
    }
   ],
   "source": [
    "df1"
   ]
  },
  {
   "cell_type": "code",
   "execution_count": 34,
   "metadata": {},
   "outputs": [],
   "source": [
    "#資料轉換數值\n",
    "df1['PurchaseTimes'] = df['購車次數為何'].replace( ['1','2','3次以上'],[ '1','2','3'],regex=True)\n",
    "df1['Experience'] = df['開車經驗多長'].replace( ['1年以下','1-3年','3-5年','5年以上'], ['1','2','3','4'],regex=True)\n",
    "df1['Revenue'] = df['每月平均收入'].replace( ['20000以下','20000-30000','30000-40000','40000-50000','50000以上'], ['1','2','3','4','5'],regex=True)\n",
    "df1['Age'] = df['年齡'].replace( ['18-24','25-34','35-44','45-54','55-64','65以上'], ['1','2','3','4','5','6'],regex=True)"
   ]
  },
  {
   "cell_type": "code",
   "execution_count": 35,
   "metadata": {},
   "outputs": [
    {
     "data": {
      "text/html": [
       "<div>\n",
       "<style scoped>\n",
       "    .dataframe tbody tr th:only-of-type {\n",
       "        vertical-align: middle;\n",
       "    }\n",
       "\n",
       "    .dataframe tbody tr th {\n",
       "        vertical-align: top;\n",
       "    }\n",
       "\n",
       "    .dataframe thead th {\n",
       "        text-align: right;\n",
       "    }\n",
       "</style>\n",
       "<table border=\"1\" class=\"dataframe\">\n",
       "  <thead>\n",
       "    <tr style=\"text-align: right;\">\n",
       "      <th></th>\n",
       "      <th>性別</th>\n",
       "      <th>年齡</th>\n",
       "      <th>每月平均收入</th>\n",
       "      <th>是否有開車經驗</th>\n",
       "      <th>開車經驗多長</th>\n",
       "      <th>是否有購車經驗</th>\n",
       "      <th>購車次數為何</th>\n",
       "      <th>Buy</th>\n",
       "      <th>PurchaseTimes</th>\n",
       "      <th>Experience</th>\n",
       "      <th>Revenue</th>\n",
       "      <th>Age</th>\n",
       "    </tr>\n",
       "  </thead>\n",
       "  <tbody>\n",
       "    <tr>\n",
       "      <th>0</th>\n",
       "      <td>男性 Man</td>\n",
       "      <td>25-34</td>\n",
       "      <td>20000以下</td>\n",
       "      <td>是 Yes</td>\n",
       "      <td>1-3年</td>\n",
       "      <td>否 No</td>\n",
       "      <td>NaN</td>\n",
       "      <td>1</td>\n",
       "      <td>NaN</td>\n",
       "      <td>2</td>\n",
       "      <td>1</td>\n",
       "      <td>2</td>\n",
       "    </tr>\n",
       "    <tr>\n",
       "      <th>1</th>\n",
       "      <td>女性 Woman</td>\n",
       "      <td>18-24</td>\n",
       "      <td>20000以下</td>\n",
       "      <td>否 No</td>\n",
       "      <td>NaN</td>\n",
       "      <td>NaN</td>\n",
       "      <td>NaN</td>\n",
       "      <td>0</td>\n",
       "      <td>NaN</td>\n",
       "      <td>NaN</td>\n",
       "      <td>1</td>\n",
       "      <td>1</td>\n",
       "    </tr>\n",
       "    <tr>\n",
       "      <th>2</th>\n",
       "      <td>男性 Man</td>\n",
       "      <td>25-34</td>\n",
       "      <td>50000以上</td>\n",
       "      <td>是 Yes</td>\n",
       "      <td>5年以上</td>\n",
       "      <td>否 No</td>\n",
       "      <td>NaN</td>\n",
       "      <td>1</td>\n",
       "      <td>NaN</td>\n",
       "      <td>4</td>\n",
       "      <td>5</td>\n",
       "      <td>2</td>\n",
       "    </tr>\n",
       "    <tr>\n",
       "      <th>3</th>\n",
       "      <td>女性 Woman</td>\n",
       "      <td>45-54</td>\n",
       "      <td>30000-40000</td>\n",
       "      <td>是 Yes</td>\n",
       "      <td>5年以上</td>\n",
       "      <td>是 Yes</td>\n",
       "      <td>1</td>\n",
       "      <td>1</td>\n",
       "      <td>1</td>\n",
       "      <td>4</td>\n",
       "      <td>3</td>\n",
       "      <td>4</td>\n",
       "    </tr>\n",
       "    <tr>\n",
       "      <th>4</th>\n",
       "      <td>女性 Woman</td>\n",
       "      <td>45-54</td>\n",
       "      <td>40000-50000</td>\n",
       "      <td>是 Yes</td>\n",
       "      <td>5年以上</td>\n",
       "      <td>是 Yes</td>\n",
       "      <td>1</td>\n",
       "      <td>1</td>\n",
       "      <td>1</td>\n",
       "      <td>4</td>\n",
       "      <td>4</td>\n",
       "      <td>4</td>\n",
       "    </tr>\n",
       "    <tr>\n",
       "      <th>...</th>\n",
       "      <td>...</td>\n",
       "      <td>...</td>\n",
       "      <td>...</td>\n",
       "      <td>...</td>\n",
       "      <td>...</td>\n",
       "      <td>...</td>\n",
       "      <td>...</td>\n",
       "      <td>...</td>\n",
       "      <td>...</td>\n",
       "      <td>...</td>\n",
       "      <td>...</td>\n",
       "      <td>...</td>\n",
       "    </tr>\n",
       "    <tr>\n",
       "      <th>204</th>\n",
       "      <td>男性 Man</td>\n",
       "      <td>25-34</td>\n",
       "      <td>30000-40000</td>\n",
       "      <td>是 Yes</td>\n",
       "      <td>3-5年</td>\n",
       "      <td>否 No</td>\n",
       "      <td>NaN</td>\n",
       "      <td>1</td>\n",
       "      <td>NaN</td>\n",
       "      <td>3</td>\n",
       "      <td>3</td>\n",
       "      <td>2</td>\n",
       "    </tr>\n",
       "    <tr>\n",
       "      <th>205</th>\n",
       "      <td>男性 Man</td>\n",
       "      <td>55-64</td>\n",
       "      <td>20000以下</td>\n",
       "      <td>是 Yes</td>\n",
       "      <td>1年以下</td>\n",
       "      <td>否 No</td>\n",
       "      <td>NaN</td>\n",
       "      <td>0</td>\n",
       "      <td>NaN</td>\n",
       "      <td>1</td>\n",
       "      <td>1</td>\n",
       "      <td>5</td>\n",
       "    </tr>\n",
       "    <tr>\n",
       "      <th>206</th>\n",
       "      <td>女性 Woman</td>\n",
       "      <td>18-24</td>\n",
       "      <td>30000-40000</td>\n",
       "      <td>是 Yes</td>\n",
       "      <td>1年以下</td>\n",
       "      <td>否 No</td>\n",
       "      <td>NaN</td>\n",
       "      <td>0</td>\n",
       "      <td>NaN</td>\n",
       "      <td>1</td>\n",
       "      <td>3</td>\n",
       "      <td>1</td>\n",
       "    </tr>\n",
       "    <tr>\n",
       "      <th>207</th>\n",
       "      <td>女性 Woman</td>\n",
       "      <td>25-34</td>\n",
       "      <td>30000-40000</td>\n",
       "      <td>是 Yes</td>\n",
       "      <td>5年以上</td>\n",
       "      <td>是 Yes</td>\n",
       "      <td>1</td>\n",
       "      <td>0</td>\n",
       "      <td>1</td>\n",
       "      <td>4</td>\n",
       "      <td>3</td>\n",
       "      <td>2</td>\n",
       "    </tr>\n",
       "    <tr>\n",
       "      <th>208</th>\n",
       "      <td>女性 Woman</td>\n",
       "      <td>55-64</td>\n",
       "      <td>50000以上</td>\n",
       "      <td>是 Yes</td>\n",
       "      <td>5年以上</td>\n",
       "      <td>是 Yes</td>\n",
       "      <td>3次以上</td>\n",
       "      <td>1</td>\n",
       "      <td>3</td>\n",
       "      <td>4</td>\n",
       "      <td>5</td>\n",
       "      <td>5</td>\n",
       "    </tr>\n",
       "  </tbody>\n",
       "</table>\n",
       "<p>206 rows × 12 columns</p>\n",
       "</div>"
      ],
      "text/plain": [
       "           性別     年齡       每月平均收入 是否有開車經驗 開車經驗多長 是否有購車經驗 購車次數為何 Buy  \\\n",
       "0      男性 Man  25-34      20000以下  是 Yes    1-3年    否 No    NaN   1   \n",
       "1    女性 Woman  18-24      20000以下    否 No    NaN     NaN    NaN  0    \n",
       "2      男性 Man  25-34      50000以上  是 Yes    5年以上    否 No    NaN   1   \n",
       "3    女性 Woman  45-54  30000-40000  是 Yes    5年以上   是 Yes      1   1   \n",
       "4    女性 Woman  45-54  40000-50000  是 Yes    5年以上   是 Yes      1   1   \n",
       "..        ...    ...          ...     ...    ...     ...    ...  ..   \n",
       "204    男性 Man  25-34  30000-40000  是 Yes    3-5年    否 No    NaN   1   \n",
       "205    男性 Man  55-64      20000以下  是 Yes    1年以下    否 No    NaN  0    \n",
       "206  女性 Woman  18-24  30000-40000  是 Yes    1年以下    否 No    NaN  0    \n",
       "207  女性 Woman  25-34  30000-40000  是 Yes    5年以上   是 Yes      1  0    \n",
       "208  女性 Woman  55-64      50000以上  是 Yes    5年以上   是 Yes   3次以上   1   \n",
       "\n",
       "    PurchaseTimes Experience Revenue Age  \n",
       "0             NaN          2       1   2  \n",
       "1             NaN        NaN       1   1  \n",
       "2             NaN          4       5   2  \n",
       "3               1          4       3   4  \n",
       "4               1          4       4   4  \n",
       "..            ...        ...     ...  ..  \n",
       "204           NaN          3       3   2  \n",
       "205           NaN          1       1   5  \n",
       "206           NaN          1       3   1  \n",
       "207             1          4       3   2  \n",
       "208             3          4       5   5  \n",
       "\n",
       "[206 rows x 12 columns]"
      ]
     },
     "execution_count": 35,
     "metadata": {},
     "output_type": "execute_result"
    }
   ],
   "source": [
    "df1"
   ]
  },
  {
   "cell_type": "code",
   "execution_count": 36,
   "metadata": {},
   "outputs": [],
   "source": [
    "#填補缺漏值\n",
    "df1['Experience'].fillna( '0', inplace=True )\n",
    "df1['PurchaseTimes'].fillna('0', inplace=True)\n",
    "df1['是否有購車經驗'].fillna('0',inplace=True)"
   ]
  },
  {
   "cell_type": "code",
   "execution_count": 37,
   "metadata": {},
   "outputs": [],
   "source": [
    "for col in ['性別','是否有開車經驗','是否有購車經驗']:\n",
    "    df1[col] = df1[col].astype('category').cat.codes"
   ]
  },
  {
   "cell_type": "code",
   "execution_count": 38,
   "metadata": {},
   "outputs": [
    {
     "data": {
      "text/html": [
       "<div>\n",
       "<style scoped>\n",
       "    .dataframe tbody tr th:only-of-type {\n",
       "        vertical-align: middle;\n",
       "    }\n",
       "\n",
       "    .dataframe tbody tr th {\n",
       "        vertical-align: top;\n",
       "    }\n",
       "\n",
       "    .dataframe thead th {\n",
       "        text-align: right;\n",
       "    }\n",
       "</style>\n",
       "<table border=\"1\" class=\"dataframe\">\n",
       "  <thead>\n",
       "    <tr style=\"text-align: right;\">\n",
       "      <th></th>\n",
       "      <th>性別</th>\n",
       "      <th>年齡</th>\n",
       "      <th>每月平均收入</th>\n",
       "      <th>是否有開車經驗</th>\n",
       "      <th>開車經驗多長</th>\n",
       "      <th>是否有購車經驗</th>\n",
       "      <th>購車次數為何</th>\n",
       "      <th>Buy</th>\n",
       "      <th>PurchaseTimes</th>\n",
       "      <th>Experience</th>\n",
       "      <th>Revenue</th>\n",
       "      <th>Age</th>\n",
       "    </tr>\n",
       "  </thead>\n",
       "  <tbody>\n",
       "    <tr>\n",
       "      <th>0</th>\n",
       "      <td>1</td>\n",
       "      <td>25-34</td>\n",
       "      <td>20000以下</td>\n",
       "      <td>1</td>\n",
       "      <td>1-3年</td>\n",
       "      <td>1</td>\n",
       "      <td>NaN</td>\n",
       "      <td>1</td>\n",
       "      <td>0</td>\n",
       "      <td>2</td>\n",
       "      <td>1</td>\n",
       "      <td>2</td>\n",
       "    </tr>\n",
       "    <tr>\n",
       "      <th>1</th>\n",
       "      <td>0</td>\n",
       "      <td>18-24</td>\n",
       "      <td>20000以下</td>\n",
       "      <td>0</td>\n",
       "      <td>NaN</td>\n",
       "      <td>0</td>\n",
       "      <td>NaN</td>\n",
       "      <td>0</td>\n",
       "      <td>0</td>\n",
       "      <td>0</td>\n",
       "      <td>1</td>\n",
       "      <td>1</td>\n",
       "    </tr>\n",
       "    <tr>\n",
       "      <th>2</th>\n",
       "      <td>1</td>\n",
       "      <td>25-34</td>\n",
       "      <td>50000以上</td>\n",
       "      <td>1</td>\n",
       "      <td>5年以上</td>\n",
       "      <td>1</td>\n",
       "      <td>NaN</td>\n",
       "      <td>1</td>\n",
       "      <td>0</td>\n",
       "      <td>4</td>\n",
       "      <td>5</td>\n",
       "      <td>2</td>\n",
       "    </tr>\n",
       "  </tbody>\n",
       "</table>\n",
       "</div>"
      ],
      "text/plain": [
       "   性別     年齡   每月平均收入  是否有開車經驗 開車經驗多長  是否有購車經驗 購車次數為何 Buy PurchaseTimes  \\\n",
       "0   1  25-34  20000以下        1   1-3年        1    NaN   1             0   \n",
       "1   0  18-24  20000以下        0    NaN        0    NaN  0              0   \n",
       "2   1  25-34  50000以上        1   5年以上        1    NaN   1             0   \n",
       "\n",
       "  Experience Revenue Age  \n",
       "0          2       1   2  \n",
       "1          0       1   1  \n",
       "2          4       5   2  "
      ]
     },
     "execution_count": 38,
     "metadata": {},
     "output_type": "execute_result"
    }
   ],
   "source": [
    "df1.head(3)"
   ]
  },
  {
   "cell_type": "markdown",
   "metadata": {},
   "source": [
    "## 建立模型用DataFrame "
   ]
  },
  {
   "cell_type": "code",
   "execution_count": 42,
   "metadata": {},
   "outputs": [],
   "source": [
    "df2 = df1.drop(df1.columns[[1,2,4,6]],axis=1)"
   ]
  },
  {
   "cell_type": "code",
   "execution_count": 43,
   "metadata": {},
   "outputs": [],
   "source": [
    "#重新排序\n",
    "df2 = df2[['性別','Age','Revenue','是否有開車經驗','Experience','是否有購車經驗','PurchaseTimes','Buy']]"
   ]
  },
  {
   "cell_type": "code",
   "execution_count": 44,
   "metadata": {},
   "outputs": [
    {
     "data": {
      "text/html": [
       "<div>\n",
       "<style scoped>\n",
       "    .dataframe tbody tr th:only-of-type {\n",
       "        vertical-align: middle;\n",
       "    }\n",
       "\n",
       "    .dataframe tbody tr th {\n",
       "        vertical-align: top;\n",
       "    }\n",
       "\n",
       "    .dataframe thead th {\n",
       "        text-align: right;\n",
       "    }\n",
       "</style>\n",
       "<table border=\"1\" class=\"dataframe\">\n",
       "  <thead>\n",
       "    <tr style=\"text-align: right;\">\n",
       "      <th></th>\n",
       "      <th>性別</th>\n",
       "      <th>Age</th>\n",
       "      <th>Revenue</th>\n",
       "      <th>是否有開車經驗</th>\n",
       "      <th>Experience</th>\n",
       "      <th>是否有購車經驗</th>\n",
       "      <th>PurchaseTimes</th>\n",
       "      <th>Buy</th>\n",
       "    </tr>\n",
       "  </thead>\n",
       "  <tbody>\n",
       "    <tr>\n",
       "      <th>0</th>\n",
       "      <td>1</td>\n",
       "      <td>2</td>\n",
       "      <td>1</td>\n",
       "      <td>1</td>\n",
       "      <td>2</td>\n",
       "      <td>1</td>\n",
       "      <td>0</td>\n",
       "      <td>1</td>\n",
       "    </tr>\n",
       "    <tr>\n",
       "      <th>1</th>\n",
       "      <td>0</td>\n",
       "      <td>1</td>\n",
       "      <td>1</td>\n",
       "      <td>0</td>\n",
       "      <td>0</td>\n",
       "      <td>0</td>\n",
       "      <td>0</td>\n",
       "      <td>0</td>\n",
       "    </tr>\n",
       "    <tr>\n",
       "      <th>2</th>\n",
       "      <td>1</td>\n",
       "      <td>2</td>\n",
       "      <td>5</td>\n",
       "      <td>1</td>\n",
       "      <td>4</td>\n",
       "      <td>1</td>\n",
       "      <td>0</td>\n",
       "      <td>1</td>\n",
       "    </tr>\n",
       "    <tr>\n",
       "      <th>3</th>\n",
       "      <td>0</td>\n",
       "      <td>4</td>\n",
       "      <td>3</td>\n",
       "      <td>1</td>\n",
       "      <td>4</td>\n",
       "      <td>2</td>\n",
       "      <td>1</td>\n",
       "      <td>1</td>\n",
       "    </tr>\n",
       "    <tr>\n",
       "      <th>4</th>\n",
       "      <td>0</td>\n",
       "      <td>4</td>\n",
       "      <td>4</td>\n",
       "      <td>1</td>\n",
       "      <td>4</td>\n",
       "      <td>2</td>\n",
       "      <td>1</td>\n",
       "      <td>1</td>\n",
       "    </tr>\n",
       "    <tr>\n",
       "      <th>...</th>\n",
       "      <td>...</td>\n",
       "      <td>...</td>\n",
       "      <td>...</td>\n",
       "      <td>...</td>\n",
       "      <td>...</td>\n",
       "      <td>...</td>\n",
       "      <td>...</td>\n",
       "      <td>...</td>\n",
       "    </tr>\n",
       "    <tr>\n",
       "      <th>204</th>\n",
       "      <td>1</td>\n",
       "      <td>2</td>\n",
       "      <td>3</td>\n",
       "      <td>1</td>\n",
       "      <td>3</td>\n",
       "      <td>1</td>\n",
       "      <td>0</td>\n",
       "      <td>1</td>\n",
       "    </tr>\n",
       "    <tr>\n",
       "      <th>205</th>\n",
       "      <td>1</td>\n",
       "      <td>5</td>\n",
       "      <td>1</td>\n",
       "      <td>1</td>\n",
       "      <td>1</td>\n",
       "      <td>1</td>\n",
       "      <td>0</td>\n",
       "      <td>0</td>\n",
       "    </tr>\n",
       "    <tr>\n",
       "      <th>206</th>\n",
       "      <td>0</td>\n",
       "      <td>1</td>\n",
       "      <td>3</td>\n",
       "      <td>1</td>\n",
       "      <td>1</td>\n",
       "      <td>1</td>\n",
       "      <td>0</td>\n",
       "      <td>0</td>\n",
       "    </tr>\n",
       "    <tr>\n",
       "      <th>207</th>\n",
       "      <td>0</td>\n",
       "      <td>2</td>\n",
       "      <td>3</td>\n",
       "      <td>1</td>\n",
       "      <td>4</td>\n",
       "      <td>2</td>\n",
       "      <td>1</td>\n",
       "      <td>0</td>\n",
       "    </tr>\n",
       "    <tr>\n",
       "      <th>208</th>\n",
       "      <td>0</td>\n",
       "      <td>5</td>\n",
       "      <td>5</td>\n",
       "      <td>1</td>\n",
       "      <td>4</td>\n",
       "      <td>2</td>\n",
       "      <td>3</td>\n",
       "      <td>1</td>\n",
       "    </tr>\n",
       "  </tbody>\n",
       "</table>\n",
       "<p>206 rows × 8 columns</p>\n",
       "</div>"
      ],
      "text/plain": [
       "     性別 Age Revenue  是否有開車經驗 Experience  是否有購車經驗 PurchaseTimes Buy\n",
       "0     1   2       1        1          2        1             0   1\n",
       "1     0   1       1        0          0        0             0  0 \n",
       "2     1   2       5        1          4        1             0   1\n",
       "3     0   4       3        1          4        2             1   1\n",
       "4     0   4       4        1          4        2             1   1\n",
       "..   ..  ..     ...      ...        ...      ...           ...  ..\n",
       "204   1   2       3        1          3        1             0   1\n",
       "205   1   5       1        1          1        1             0  0 \n",
       "206   0   1       3        1          1        1             0  0 \n",
       "207   0   2       3        1          4        2             1  0 \n",
       "208   0   5       5        1          4        2             3   1\n",
       "\n",
       "[206 rows x 8 columns]"
      ]
     },
     "execution_count": 44,
     "metadata": {},
     "output_type": "execute_result"
    }
   ],
   "source": [
    "df2"
   ]
  },
  {
   "cell_type": "markdown",
   "metadata": {},
   "source": [
    "## 產生訓練集(Train)與測試集(Test)"
   ]
  },
  {
   "cell_type": "code",
   "execution_count": 47,
   "metadata": {},
   "outputs": [],
   "source": [
    "X = df2.iloc[:, :-1].values\n",
    "y = df2.iloc[:, -1].values"
   ]
  },
  {
   "cell_type": "code",
   "execution_count": 46,
   "metadata": {},
   "outputs": [],
   "source": [
    "from sklearn.model_selection import train_test_split\n",
    "X_train, X_test, y_train, y_test = train_test_split(X, y, test_size = 0.25, random_state = 0)"
   ]
  },
  {
   "cell_type": "markdown",
   "metadata": {},
   "source": [
    "## 特徵縮放"
   ]
  },
  {
   "cell_type": "code",
   "execution_count": 48,
   "metadata": {},
   "outputs": [],
   "source": [
    "from sklearn.preprocessing import StandardScaler\n",
    "sc = StandardScaler()\n",
    "X_train = sc.fit_transform(X_train)\n",
    "X_test = sc.transform(X_test)"
   ]
  },
  {
   "cell_type": "markdown",
   "metadata": {},
   "source": [
    "## 建立模型"
   ]
  },
  {
   "cell_type": "code",
   "execution_count": 49,
   "metadata": {},
   "outputs": [
    {
     "data": {
      "text/plain": [
       "LogisticRegression(random_state=0)"
      ]
     },
     "execution_count": 49,
     "metadata": {},
     "output_type": "execute_result"
    }
   ],
   "source": [
    "#LogisticRegression\n",
    "from sklearn.linear_model import LogisticRegression\n",
    "classifier = LogisticRegression(random_state = 0)\n",
    "classifier.fit(X_train, y_train)"
   ]
  },
  {
   "cell_type": "code",
   "execution_count": 50,
   "metadata": {},
   "outputs": [
    {
     "name": "stdout",
     "output_type": "stream",
     "text": [
      "[[26  4]\n",
      " [20  2]]\n"
     ]
    },
    {
     "data": {
      "text/plain": [
       "0.5384615384615384"
      ]
     },
     "execution_count": 50,
     "metadata": {},
     "output_type": "execute_result"
    }
   ],
   "source": [
    "from sklearn.metrics import confusion_matrix, accuracy_score\n",
    "y_pred = classifier.predict(X_test)\n",
    "cm = confusion_matrix(y_test, y_pred)\n",
    "print(cm)\n",
    "accuracy_score(y_test, y_pred)#分類準確率"
   ]
  },
  {
   "cell_type": "code",
   "execution_count": 51,
   "metadata": {},
   "outputs": [
    {
     "data": {
      "text/plain": [
       "DecisionTreeClassifier(criterion='entropy', random_state=0)"
      ]
     },
     "execution_count": 51,
     "metadata": {},
     "output_type": "execute_result"
    }
   ],
   "source": [
    "#DecisionTreeClassifier\n",
    "from sklearn.tree import DecisionTreeClassifier\n",
    "classifier = DecisionTreeClassifier(criterion = 'entropy', random_state = 0)\n",
    "classifier.fit(X_train, y_train)"
   ]
  },
  {
   "cell_type": "code",
   "execution_count": 52,
   "metadata": {},
   "outputs": [
    {
     "name": "stdout",
     "output_type": "stream",
     "text": [
      "[[19 11]\n",
      " [14  8]]\n"
     ]
    },
    {
     "data": {
      "text/plain": [
       "0.5192307692307693"
      ]
     },
     "execution_count": 52,
     "metadata": {},
     "output_type": "execute_result"
    }
   ],
   "source": [
    "from sklearn.metrics import confusion_matrix, accuracy_score\n",
    "y_pred = classifier.predict(X_test)\n",
    "cm = confusion_matrix(y_test, y_pred)\n",
    "print(cm)\n",
    "accuracy_score(y_test, y_pred)"
   ]
  },
  {
   "cell_type": "code",
   "execution_count": 53,
   "metadata": {},
   "outputs": [
    {
     "data": {
      "text/plain": [
       "SVC(kernel='linear', random_state=0)"
      ]
     },
     "execution_count": 53,
     "metadata": {},
     "output_type": "execute_result"
    }
   ],
   "source": [
    "#SVC\n",
    "from sklearn.svm import SVC\n",
    "classifier = SVC(kernel = 'linear', random_state = 0)\n",
    "classifier.fit(X_train, y_train)"
   ]
  },
  {
   "cell_type": "code",
   "execution_count": 54,
   "metadata": {},
   "outputs": [
    {
     "name": "stdout",
     "output_type": "stream",
     "text": [
      "[[30  0]\n",
      " [22  0]]\n"
     ]
    },
    {
     "data": {
      "text/plain": [
       "0.5769230769230769"
      ]
     },
     "execution_count": 54,
     "metadata": {},
     "output_type": "execute_result"
    }
   ],
   "source": [
    "from sklearn.metrics import confusion_matrix, accuracy_score\n",
    "y_pred = classifier.predict(X_test)\n",
    "cm = confusion_matrix(y_test, y_pred)\n",
    "print(cm)\n",
    "accuracy_score(y_test, y_pred)"
   ]
  },
  {
   "cell_type": "code",
   "execution_count": null,
   "metadata": {},
   "outputs": [],
   "source": []
  }
 ],
 "metadata": {
  "kernelspec": {
   "display_name": "Python 3",
   "language": "python",
   "name": "python3"
  },
  "language_info": {
   "codemirror_mode": {
    "name": "ipython",
    "version": 3
   },
   "file_extension": ".py",
   "mimetype": "text/x-python",
   "name": "python",
   "nbconvert_exporter": "python",
   "pygments_lexer": "ipython3",
   "version": "3.7.9"
  }
 },
 "nbformat": 4,
 "nbformat_minor": 4
}
